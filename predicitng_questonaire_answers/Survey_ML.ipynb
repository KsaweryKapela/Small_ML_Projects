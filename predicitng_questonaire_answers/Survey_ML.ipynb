{
  "nbformat": 4,
  "nbformat_minor": 0,
  "metadata": {
    "colab": {
      "provenance": []
    },
    "kernelspec": {
      "name": "python3",
      "display_name": "Python 3"
    },
    "language_info": {
      "name": "python"
    }
  },
  "cells": [
    {
      "cell_type": "code",
      "execution_count": 157,
      "metadata": {
        "id": "8GYvdCC2r1Dc"
      },
      "outputs": [],
      "source": [
        "import pandas as pd\n",
        "\n",
        "file_name = 'data/data.xlsx'\n",
        "df = pd.read_excel(io=file_name)\n",
        "\n",
        "df = df[:235]\n",
        "df = df.drop(labels=['My scale:', 'Dodatkowe pytanie:', 'Funkcjonowanie społeczne', 'Szczegóły o pornografii',\n",
        "                     'Metryczka', 'PPCS:', 'Extreme score'], axis=1)\n",
        "\n",
        "df.columns = 'time', 'extreme_1', 'extreme_2', 'extreme_3', 'extreme_4', 'extreme_5', 'extreme_6', 'extreme_7', \\\n",
        "             'extreme_8', 'extreme_score', 'PPCS_1', 'PPCS_2', 'PPCS_3', 'PPCS_4', 'PPCS_5', \\\n",
        "             'PPCS_6', 'PPCS_score', 'PPCS_7', 'well-being', 'father_relations', 'mother_relations', \\\n",
        "             'friends_relations', 'romantic_life', 'sexual_life', 'reenacting', 'weekly_sessions', 'session_time', \\\n",
        "             'weekly_minutes', 'gender', 'age', 'faith_status', 'education', 'relationship_status', 'lives_with', 'occupation'\n",
        "\n",
        "\n",
        "in_relationship = []\n",
        "believes_in_god = []\n",
        "\n",
        "for item in df['relationship_status']:\n",
        "    if item in ['Zaręczony/zaręczona', 'W związku małżeńskim', 'W związku', 'Kochanka']:\n",
        "        in_relationship.append(True)\n",
        "    else:\n",
        "        in_relationship.append(False)\n",
        "\n",
        "for item in df['faith_status']:\n",
        "    if item == 'Nie':\n",
        "        believes_in_god.append(False)\n",
        "    else:\n",
        "        believes_in_god.append(True)\n",
        "\n",
        "df['in_relationship'] = in_relationship\n",
        "df['believes_in_god'] = believes_in_god"
      ]
    },
    {
      "cell_type": "code",
      "source": [
        "argumnets_list = []\n",
        "\n",
        "for i in range(len(df)):\n",
        "  index_tuple = df['extreme_score'][i], df['well-being'][i], df['reenacting'][i], df['age'][i], df['sexual_life'][i],\\\n",
        "                df['gender'].replace({'Mężczyzna':1, 'Kobieta':0})[i], df['believes_in_god'][i].astype(int),\\\n",
        "                df['PPCS_score'][i], df['friends_relations'][i], df['in_relationship'][i].astype(int), df['weekly_sessions'][i],\\\n",
        "                df['session_time'][i]\n",
        "                \n",
        "  argumnets_list.append(index_tuple)\n",
        "\n",
        "print(argumnets_list[0])"
      ],
      "metadata": {
        "colab": {
          "base_uri": "https://localhost:8080/"
        },
        "id": "NxENlG4UxrYi",
        "outputId": "3ea83e0d-e739-451f-d968-6901dc0082f8"
      },
      "execution_count": 241,
      "outputs": [
        {
          "output_type": "stream",
          "name": "stdout",
          "text": [
            "(2.3080593849416755, 1, 5, 22, 1, 0, 0, 11, 7, 0, 3, 30)\n"
          ]
        }
      ]
    },
    {
      "cell_type": "code",
      "source": [
        "import numpy as np\n",
        "X = np.array(argumnets_list)\n",
        "y = np.array(df['romantic_life'])\n",
        "\n",
        "print(X.shape)\n",
        "print(y.shape)"
      ],
      "metadata": {
        "colab": {
          "base_uri": "https://localhost:8080/"
        },
        "id": "eM077RYgsR-P",
        "outputId": "92473980-017f-447e-e8ff-83f15d774e39"
      },
      "execution_count": 242,
      "outputs": [
        {
          "output_type": "stream",
          "name": "stdout",
          "text": [
            "(235, 12)\n",
            "(235,)\n"
          ]
        }
      ]
    },
    {
      "cell_type": "code",
      "source": [
        "from sklearn.model_selection import train_test_split\n",
        "\n",
        "X_train, X_test, y_train, y_test = train_test_split(X, y, test_size=0.2, random_state=42)"
      ],
      "metadata": {
        "id": "3bcFjAn_wflw"
      },
      "execution_count": 243,
      "outputs": []
    },
    {
      "cell_type": "code",
      "source": [
        "\n",
        "from sklearn.pipeline import make_pipeline\n",
        "from sklearn.preprocessing import StandardScaler, RobustScaler\n",
        "from sklearn.svm import SVR, SVC\n",
        "\n",
        "clf = make_pipeline(RobustScaler(), SVR(kernel='linear', gamma='auto'))\n",
        "clf.fit(X_train, y_train)\n",
        "\n",
        "print(clf.score(X_test, y_test))\n"
      ],
      "metadata": {
        "colab": {
          "base_uri": "https://localhost:8080/"
        },
        "id": "SbIJHynwu3ek",
        "outputId": "b0f23fa4-4b57-432c-b9f4-6c71dc156d86"
      },
      "execution_count": 244,
      "outputs": [
        {
          "output_type": "stream",
          "name": "stdout",
          "text": [
            "0.6131955800871763\n"
          ]
        }
      ]
    },
    {
      "cell_type": "code",
      "source": [
        "results = clf.predict(X_test)\n",
        "from scipy.stats import pearsonr\n",
        "print(pearsonr(results, y_test)[0])"
      ],
      "metadata": {
        "colab": {
          "base_uri": "https://localhost:8080/"
        },
        "id": "U5pRUVQ8ymJh",
        "outputId": "96b6217b-63de-48b6-ff30-0b07d5a1a77a"
      },
      "execution_count": 245,
      "outputs": [
        {
          "output_type": "stream",
          "name": "stdout",
          "text": [
            "0.8329194330455443\n"
          ]
        }
      ]
    },
    {
      "cell_type": "code",
      "source": [
        "import matplotlib.pyplot as plt\n",
        "\n",
        "plot_range = range(len(y_test))\n",
        "plt.plot(plot_range, results, 'ro', label='Results')\n",
        "plt.plot(plot_range, y_test, label='True scores')\n",
        "plt.legend(loc='upper right')"
      ],
      "metadata": {
        "colab": {
          "base_uri": "https://localhost:8080/",
          "height": 282
        },
        "id": "5YrBdnKLyto3",
        "outputId": "b1bb1271-05b2-49eb-e910-8f4e0237820b"
      },
      "execution_count": 268,
      "outputs": [
        {
          "output_type": "execute_result",
          "data": {
            "text/plain": [
              "<matplotlib.legend.Legend at 0x7f7eddcf76d0>"
            ]
          },
          "metadata": {},
          "execution_count": 268
        },
        {
          "output_type": "display_data",
          "data": {
            "text/plain": [
              "<Figure size 432x288 with 1 Axes>"
            ],
            "image/png": "[encoded data removed]"
          },
          "metadata": {
            "needs_background": "light"
          }
        }
      ]
    }
  ]
}