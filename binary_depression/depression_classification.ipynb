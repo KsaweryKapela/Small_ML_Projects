{
  "cells": [
    {
      "cell_type": "code",
      "execution_count": 6,
      "metadata": {
        "id": "cHaKTBm_mQkt"
      },
      "outputs": [
        {
          "name": "stderr",
          "output_type": "stream",
          "text": [
            "Downloading (…)okenizer_config.json: 100%|██████████| 28.0/28.0 [00:00<00:00, 266kB/s]\n",
            "Downloading (…)lve/main/config.json: 100%|██████████| 570/570 [00:00<00:00, 5.99MB/s]\n",
            "Downloading (…)solve/main/vocab.txt: 100%|██████████| 232k/232k [00:00<00:00, 1.06MB/s]\n",
            "Downloading (…)/main/tokenizer.json: 100%|██████████| 466k/466k [00:00<00:00, 1.42MB/s]\n",
            "Downloading model.safetensors: 100%|██████████| 440M/440M [00:07<00:00, 62.4MB/s] \n"
          ]
        }
      ],
      "source": [
        "import numpy as np\n",
        "import pandas as pd\n",
        "from sklearn.model_selection import train_test_split\n",
        "from sklearn import svm\n",
        "from dotenv import load_dotenv\n",
        "import os\n",
        "from transformers import AutoTokenizer, AutoModel\n",
        "from sklearn.pipeline import Pipeline\n",
        "\n",
        "\n",
        "load_dotenv()\n",
        "DATASET_PATH = f'{os.getenv(\"DATASETS_PATH\")}depression_ds.csv'\n",
        "df = pd.read_csv(DATASET_PATH)\n",
        "\n",
        "\n"
      ]
    },
    {
      "cell_type": "code",
      "execution_count": null,
      "metadata": {},
      "outputs": [],
      "source": [
        "\n",
        "\n",
        "\n",
        "\n",
        "df_train, df_test = train_test_split(df, test_size = 0.2, random_state=13)"
      ]
    },
    {
      "cell_type": "code",
      "execution_count": 7,
      "metadata": {
        "id": "64q1jXGVpNKE"
      },
      "outputs": [],
      "source": [
        "from bert_transformer import BertTransformer\n",
        "\n",
        "tokenizer = AutoTokenizer.from_pretrained('bert-base-uncased')\n",
        "model = AutoModel.from_pretrained(\"bert-base-uncased\")\n",
        "\n",
        "bert_transformer = BertTransformer(tokenizer, model)\n",
        "\n"
      ]
    },
    {
      "cell_type": "code",
      "execution_count": 7,
      "metadata": {
        "id": "yYQf1hzVazTD"
      },
      "outputs": [],
      "source": [
        "\n",
        "\n",
        "classifier = svm.SVC(kernel='linear')\n",
        "\n",
        "model = Pipeline([\n",
        "        (\"vectorizer\", bert_transformer),\n",
        "        (\"classifier\", classifier),\n",
        "        ])"
      ]
    },
    {
      "cell_type": "code",
      "execution_count": 22,
      "metadata": {
        "id": "oUBcYPjyp-_P"
      },
      "outputs": [],
      "source": [
        "train_X = df_train['clean_text']\n",
        "train_y = df_train['is_depression']"
      ]
    },
    {
      "cell_type": "code",
      "execution_count": 23,
      "metadata": {
        "colab": {
          "base_uri": "https://localhost:8080/"
        },
        "id": "GhoLvnTDrHkd",
        "outputId": "26a37ad9-3ec3-4cfe-df4f-4fc7d221c201"
      },
      "outputs": [
        {
          "data": {
            "text/plain": [
              "Pipeline(steps=[('vectorizer',\n",
              "                 BertTransformer(bert_model=BertModel(\n",
              "  (embeddings): BertEmbeddings(\n",
              "    (word_embeddings): Embedding(30522, 768, padding_idx=0)\n",
              "    (position_embeddings): Embedding(512, 768)\n",
              "    (token_type_embeddings): Embedding(2, 768)\n",
              "    (LayerNorm): LayerNorm((768,), eps=1e-12, elementwise_affine=True)\n",
              "    (dropout): Dropout(p=0.1, inplace=False)\n",
              "  )\n",
              "  (encoder): BertEncoder...\n",
              "                                 bert_tokenizer=PreTrainedTokenizerFast(name_or_path='bert-base-uncased', vocab_size=30522, model_max_len=512, is_fast=True, padding_side='right', truncation_side='right', special_tokens={'unk_token': '[UNK]', 'sep_token': '[SEP]', 'pad_token': '[PAD]', 'cls_token': '[CLS]', 'mask_token': '[MASK]'}),\n",
              "                                 embedding_func=<function BertTransformer.__init__.<locals>.<lambda> at 0x7f41a6306f80>)),\n",
              "                ('classifier', SVC(kernel='linear'))])"
            ]
          },
          "execution_count": 23,
          "metadata": {},
          "output_type": "execute_result"
        }
      ],
      "source": [
        "model.fit(train_X, train_y)"
      ]
    },
    {
      "cell_type": "code",
      "execution_count": 25,
      "metadata": {
        "colab": {
          "base_uri": "https://localhost:8080/"
        },
        "id": "BOrminMlsa0s",
        "outputId": "86065f34-c658-48b7-f145-47632d4aba8b"
      },
      "outputs": [
        {
          "name": "stdout",
          "output_type": "stream",
          "text": [
            "1547\n"
          ]
        }
      ],
      "source": [
        "test_X = df_test['clean_text']\n",
        "test_y = df_test['is_depression']\n",
        "\n",
        "print(len(test_X))\n",
        "\n",
        "predictions = model.predict(test_X)"
      ]
    },
    {
      "cell_type": "code",
      "execution_count": 35,
      "metadata": {
        "colab": {
          "base_uri": "https://localhost:8080/"
        },
        "id": "qWjJSOo2s26W",
        "outputId": "01af9fe5-042d-4d6f-9611-155a1b13822b"
      },
      "outputs": [
        {
          "name": "stdout",
          "output_type": "stream",
          "text": [
            "Succes rate: 94.05 %\n"
          ]
        }
      ],
      "source": [
        "failed = 0\n",
        "for prediction, answer in zip(predictions, test_y):\n",
        "  if prediction != answer:\n",
        "    failed += 1\n",
        "\n",
        "print(f\"Succes rate: {100 - round(failed/1547*100, 2)} %\")"
      ]
    }
  ],
  "metadata": {
    "accelerator": "GPU",
    "colab": {
      "provenance": []
    },
    "gpuClass": "standard",
    "kernelspec": {
      "display_name": "Python 3",
      "name": "python3"
    },
    "language_info": {
      "codemirror_mode": {
        "name": "ipython",
        "version": 3
      },
      "file_extension": ".py",
      "mimetype": "text/x-python",
      "name": "python",
      "nbconvert_exporter": "python",
      "pygments_lexer": "ipython3",
      "version": "3.11.4"
    }
  },
  "nbformat": 4,
  "nbformat_minor": 0
}
