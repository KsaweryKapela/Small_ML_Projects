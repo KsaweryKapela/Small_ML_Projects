{
  "nbformat": 4,
  "nbformat_minor": 0,
  "metadata": {
    "colab": {
      "provenance": []
    },
    "kernelspec": {
      "name": "python3",
      "display_name": "Python 3"
    },
    "language_info": {
      "name": "python"
    },
    "accelerator": "GPU",
    "gpuClass": "standard"
  },
  "cells": [
    {
      "cell_type": "code",
      "source": [
        "import numpy as np\n",
        "import pandas as pd\n",
        "from sklearn.model_selection import train_test_split\n",
        "from sklearn import svm\n"
      ],
      "metadata": {
        "id": "cHaKTBm_mQkt"
      },
      "execution_count": 1,
      "outputs": []
    },
    {
      "cell_type": "code",
      "source": [
        "! pip install transformers"
      ],
      "metadata": {
        "id": "pAx9E849n_fK"
      },
      "execution_count": null,
      "outputs": []
    },
    {
      "cell_type": "code",
      "source": [
        "from transformers import AutoTokenizer, AutoModel\n",
        "\n",
        "df_all = pd.read_csv('input/depression_data.csv')\n",
        "\n",
        "df_train, df_test = train_test_split(df_all, test_size = 0.2, random_state=13)"
      ],
      "metadata": {
        "id": "OKjO999zohN1"
      },
      "execution_count": null,
      "outputs": []
    },
    {
      "cell_type": "code",
      "source": [
        "tokenizer = AutoTokenizer.from_pretrained('bert-base-uncased')\n",
        "model = AutoModel.from_pretrained(\"bert-base-uncased\")"
      ],
      "metadata": {
        "id": "64q1jXGVpNKE"
      },
      "execution_count": null,
      "outputs": []
    },
    {
      "cell_type": "code",
      "source": [
        "from typing import Callable, List, Optional, Tuple\n",
        "import pandas as pd\n",
        "from sklearn.base import TransformerMixin, BaseEstimator\n",
        "import torch\n",
        "\n",
        "class BertTransformer(BaseEstimator, TransformerMixin):\n",
        "    def __init__(\n",
        "            self,\n",
        "            bert_tokenizer,\n",
        "            bert_model,\n",
        "            max_length: int = 60,\n",
        "            embedding_func: Optional[Callable[[torch.tensor], torch.tensor]] = None,\n",
        "    ):\n",
        "        self.bert_tokenizer = bert_tokenizer\n",
        "        self.bert_model = bert_model\n",
        "        self.bert_model.eval()\n",
        "        self.max_length = max_length\n",
        "        self.embedding_func = embedding_func\n",
        "\n",
        "        if self.embedding_func is None:\n",
        "            self.embedding_func = lambda x: x[0][:, 0, :].squeeze()\n",
        "\n",
        "    def _tokenize(self, text: str) -> Tuple[torch.tensor, torch.tensor]:\n",
        "        # Tokenize the text with the provided tokenizer\n",
        "        tokenized_text = self.bert_tokenizer.encode_plus(text,\n",
        "                                                         add_special_tokens=True,\n",
        "                                                         max_length=self.max_length\n",
        "                                                         )[\"input_ids\"]\n",
        "\n",
        "        # Create an attention mask telling BERT to use all words\n",
        "        attention_mask = [1] * len(tokenized_text)\n",
        "\n",
        "        # bert takes in a batch so we need to unsqueeze the rows\n",
        "        return (\n",
        "            torch.tensor(tokenized_text).unsqueeze(0),\n",
        "            torch.tensor(attention_mask).unsqueeze(0),\n",
        "        )\n",
        "\n",
        "    def _tokenize_and_predict(self, text: str) -> torch.tensor:\n",
        "        tokenized, attention_mask = self._tokenize(text)\n",
        "\n",
        "        embeddings = self.bert_model(tokenized, attention_mask)\n",
        "        return self.embedding_func(embeddings)\n",
        "\n",
        "    def transform(self, text: List[str]):\n",
        "        if isinstance(text, pd.Series):\n",
        "            text = text.tolist()\n",
        "\n",
        "        with torch.no_grad():\n",
        "            return torch.stack([self._tokenize_and_predict(string) for string in text])\n",
        "\n",
        "    def fit(self, X, y=None):\n",
        "        \"\"\"No fitting necessary so we just return ourselves\"\"\"\n",
        "        return self"
      ],
      "metadata": {
        "id": "pdKPSGaKprtZ"
      },
      "execution_count": 6,
      "outputs": []
    },
    {
      "cell_type": "code",
      "execution_count": 7,
      "metadata": {
        "id": "yYQf1hzVazTD"
      },
      "outputs": [],
      "source": [
        "from sklearn.pipeline import Pipeline\n",
        "\n",
        "bert_transformer = BertTransformer(tokenizer, model)\n",
        "\n",
        "classifier = svm.SVC(kernel='linear')\n",
        "\n",
        "model = Pipeline([\n",
        "        (\"vectorizer\", bert_transformer),\n",
        "        (\"classifier\", classifier),\n",
        "        ])"
      ]
    },
    {
      "cell_type": "code",
      "source": [
        "train_X = df_train['clean_text']\n",
        "train_y = df_train['is_depression']"
      ],
      "metadata": {
        "id": "oUBcYPjyp-_P"
      },
      "execution_count": 22,
      "outputs": []
    },
    {
      "cell_type": "code",
      "source": [
        "model.fit(train_X, train_y)"
      ],
      "metadata": {
        "colab": {
          "base_uri": "https://localhost:8080/"
        },
        "id": "GhoLvnTDrHkd",
        "outputId": "26a37ad9-3ec3-4cfe-df4f-4fc7d221c201"
      },
      "execution_count": 23,
      "outputs": [
        {
          "output_type": "execute_result",
          "data": {
            "text/plain": [
              "Pipeline(steps=[('vectorizer',\n",
              "                 BertTransformer(bert_model=BertModel(\n",
              "  (embeddings): BertEmbeddings(\n",
              "    (word_embeddings): Embedding(30522, 768, padding_idx=0)\n",
              "    (position_embeddings): Embedding(512, 768)\n",
              "    (token_type_embeddings): Embedding(2, 768)\n",
              "    (LayerNorm): LayerNorm((768,), eps=1e-12, elementwise_affine=True)\n",
              "    (dropout): Dropout(p=0.1, inplace=False)\n",
              "  )\n",
              "  (encoder): BertEncoder...\n",
              "                                 bert_tokenizer=PreTrainedTokenizerFast(name_or_path='bert-base-uncased', vocab_size=30522, model_max_len=512, is_fast=True, padding_side='right', truncation_side='right', special_tokens={'unk_token': '[UNK]', 'sep_token': '[SEP]', 'pad_token': '[PAD]', 'cls_token': '[CLS]', 'mask_token': '[MASK]'}),\n",
              "                                 embedding_func=<function BertTransformer.__init__.<locals>.<lambda> at 0x7f41a6306f80>)),\n",
              "                ('classifier', SVC(kernel='linear'))])"
            ]
          },
          "metadata": {},
          "execution_count": 23
        }
      ]
    },
    {
      "cell_type": "code",
      "source": [
        "test_X = df_test['clean_text']\n",
        "test_y = df_test['is_depression']\n",
        "\n",
        "print(len(test_X))\n",
        "\n",
        "predictions = model.predict(test_X)"
      ],
      "metadata": {
        "colab": {
          "base_uri": "https://localhost:8080/"
        },
        "id": "BOrminMlsa0s",
        "outputId": "86065f34-c658-48b7-f145-47632d4aba8b"
      },
      "execution_count": 25,
      "outputs": [
        {
          "output_type": "stream",
          "name": "stdout",
          "text": [
            "1547\n"
          ]
        }
      ]
    },
    {
      "cell_type": "code",
      "source": [
        "failed = 0\n",
        "for prediction, answer in zip(predictions, test_y):\n",
        "  if prediction != answer:\n",
        "    failed += 1\n",
        "\n",
        "print(f\"Succes rate: {100 - round(failed/1547*100, 2)} %\")"
      ],
      "metadata": {
        "colab": {
          "base_uri": "https://localhost:8080/"
        },
        "id": "qWjJSOo2s26W",
        "outputId": "01af9fe5-042d-4d6f-9611-155a1b13822b"
      },
      "execution_count": 35,
      "outputs": [
        {
          "output_type": "stream",
          "name": "stdout",
          "text": [
            "Succes rate: 94.05 %\n"
          ]
        }
      ]
    }
  ]
}