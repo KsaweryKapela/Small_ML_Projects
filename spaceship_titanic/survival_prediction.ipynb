{
 "cells": [
  {
   "cell_type": "code",
   "execution_count": 1,
   "metadata": {},
   "outputs": [
    {
     "name": "stderr",
     "output_type": "stream",
     "text": [
      "c:\\Users\\Lenovo\\AppData\\Local\\Programs\\Python\\Python310\\lib\\site-packages\\tqdm\\auto.py:22: TqdmWarning: IProgress not found. Please update jupyter and ipywidgets. See https://ipywidgets.readthedocs.io/en/stable/user_install.html\n",
      "  from .autonotebook import tqdm as notebook_tqdm\n"
     ]
    }
   ],
   "source": [
    "import pandas as pd\n",
    "import numpy as np\n",
    "import sklearn\n",
    "import torch\n",
    "import matplotlib.pyplot as plt"
   ]
  },
  {
   "cell_type": "code",
   "execution_count": 2,
   "metadata": {},
   "outputs": [],
   "source": [
    "df_test = pd.read_csv('test.csv')\n",
    "df_train = pd.read_csv('train.csv')"
   ]
  },
  {
   "attachments": {},
   "cell_type": "markdown",
   "metadata": {},
   "source": [
    "DESCRIPTIVES"
   ]
  },
  {
   "cell_type": "code",
   "execution_count": 3,
   "metadata": {},
   "outputs": [
    {
     "name": "stdout",
     "output_type": "stream",
     "text": [
      "<class 'pandas.core.frame.DataFrame'>\n",
      "RangeIndex: 8693 entries, 0 to 8692\n",
      "Data columns (total 14 columns):\n",
      " #   Column        Non-Null Count  Dtype  \n",
      "---  ------        --------------  -----  \n",
      " 0   PassengerId   8693 non-null   object \n",
      " 1   HomePlanet    8492 non-null   object \n",
      " 2   CryoSleep     8476 non-null   object \n",
      " 3   Cabin         8494 non-null   object \n",
      " 4   Destination   8511 non-null   object \n",
      " 5   Age           8514 non-null   float64\n",
      " 6   VIP           8490 non-null   object \n",
      " 7   RoomService   8512 non-null   float64\n",
      " 8   FoodCourt     8510 non-null   float64\n",
      " 9   ShoppingMall  8485 non-null   float64\n",
      " 10  Spa           8510 non-null   float64\n",
      " 11  VRDeck        8505 non-null   float64\n",
      " 12  Name          8493 non-null   object \n",
      " 13  Transported   8693 non-null   bool   \n",
      "dtypes: bool(1), float64(6), object(7)\n",
      "memory usage: 891.5+ KB\n"
     ]
    }
   ],
   "source": [
    "df_train.info()"
   ]
  },
  {
   "cell_type": "code",
   "execution_count": 4,
   "metadata": {},
   "outputs": [
    {
     "data": {
      "text/plain": [
       "(array([ 591.,  649., 2089., 1976., 1350.,  893.,  536.,  294.,  106.,\n",
       "          30.]),\n",
       " array([ 0. ,  7.9, 15.8, 23.7, 31.6, 39.5, 47.4, 55.3, 63.2, 71.1, 79. ]),\n",
       " <BarContainer object of 10 artists>)"
      ]
     },
     "execution_count": 4,
     "metadata": {},
     "output_type": "execute_result"
    },
    {
     "data": {
      "image/png": "[encoded data removed]",
      "text/plain": [
       "<Figure size 432x288 with 1 Axes>"
      ]
     },
     "metadata": {
      "needs_background": "light"
     },
     "output_type": "display_data"
    }
   ],
   "source": [
    "plt.hist(df_train.Age)"
   ]
  },
  {
   "cell_type": "code",
   "execution_count": 5,
   "metadata": {},
   "outputs": [
    {
     "name": "stdout",
     "output_type": "stream",
     "text": [
      "HomePlanet {'Earth': 4602, 'Europa': 2131, 'Mars': 1759}\n",
      "CryoSleep {False: 5439, True: 3037}\n",
      "Cabin has 6560 different values\n",
      "Destination {'TRAPPIST-1e': 5915, '55 Cancri e': 1800, 'PSO J318.5-22': 796}\n",
      "Age has 80 different values\n",
      "VIP {False: 8291, True: 199}\n",
      "RoomService has 1273 different values\n",
      "FoodCourt has 1507 different values\n",
      "ShoppingMall has 1115 different values\n",
      "Spa has 1327 different values\n",
      "VRDeck has 1306 different values\n",
      "Name has 8473 different values\n",
      "Transported {True: 4378, False: 4315}\n"
     ]
    }
   ],
   "source": [
    "for column in df_train.columns[1:]:\n",
    "    values = df_train[column].value_counts()\n",
    "    if len(values) < 5:\n",
    "        print(column, dict(values))\n",
    "    else:\n",
    "        print(f'{column} has {len(values)} different values')"
   ]
  },
  {
   "attachments": {},
   "cell_type": "markdown",
   "metadata": {},
   "source": [
    "PREPROCESSING"
   ]
  },
  {
   "cell_type": "code",
   "execution_count": 6,
   "metadata": {},
   "outputs": [],
   "source": [
    "def fillna_with_mode(df):\n",
    "    for column in df.columns:\n",
    "        mode_value = df[column].mode()[0]\n",
    "        df[column].fillna(mode_value, inplace=True)\n",
    "        \n",
    "    return df\n",
    "\n",
    "def replace_with_numbers(df, column_names):\n",
    "    for column in column_names:\n",
    "        unique_values = sorted(df[column].unique())\n",
    "        value_to_number = {value: i for i, value in enumerate(unique_values)}\n",
    "        df[column] = df[column].replace(value_to_number)\n",
    "    \n",
    "    return df\n",
    "\n",
    "def get_non_numeric_columns(df):\n",
    "    non_numeric_columns = []\n",
    "    \n",
    "    for column in df.columns:\n",
    "        if not pd.api.types.is_numeric_dtype(df[column]) or pd.api.types.is_bool_dtype(df[column]):\n",
    "            non_numeric_columns.append(column)\n",
    "\n",
    "    return non_numeric_columns"
   ]
  },
  {
   "cell_type": "code",
   "execution_count": 7,
   "metadata": {},
   "outputs": [
    {
     "data": {
      "text/plain": [
       "['PassengerId',\n",
       " 'HomePlanet',\n",
       " 'CryoSleep',\n",
       " 'Cabin',\n",
       " 'Destination',\n",
       " 'VIP',\n",
       " 'Transported']"
      ]
     },
     "execution_count": 7,
     "metadata": {},
     "output_type": "execute_result"
    }
   ],
   "source": [
    "non_numeric_columns = get_non_numeric_columns(df_train)\n",
    "del non_numeric_columns[-2]\n",
    "non_numeric_columns"
   ]
  },
  {
   "cell_type": "code",
   "execution_count": 8,
   "metadata": {},
   "outputs": [],
   "source": [
    "df_test = fillna_with_mode(df_test)\n",
    "df_train = fillna_with_mode(df_train)\n",
    "\n",
    "df_test = replace_with_numbers(df_test, non_numeric_columns[:-1])\n",
    "df_train = replace_with_numbers(df_train, non_numeric_columns)"
   ]
  },
  {
   "cell_type": "code",
   "execution_count": 58,
   "metadata": {},
   "outputs": [],
   "source": [
    "def one_hot_encode(df, column_name):\n",
    "    one_hot = pd.get_dummies(df[column_name], prefix=column_name)\n",
    "    return pd.concat([df, one_hot], axis=1).drop(column_name, axis=1)\n",
    "\n",
    "def multiple_one_hot_encode(df, column_names):\n",
    "    for column in column_names:\n",
    "        df = one_hot_encode(df, column)\n",
    "    return df"
   ]
  },
  {
   "cell_type": "code",
   "execution_count": 59,
   "metadata": {},
   "outputs": [],
   "source": [
    "df_test = multiple_one_hot_encode(df_test, ['HomePlanet', 'Destination'])\n",
    "df_train = multiple_one_hot_encode(df_train, ['HomePlanet', 'Destination'])\n"
   ]
  },
  {
   "cell_type": "code",
   "execution_count": 64,
   "metadata": {},
   "outputs": [
    {
     "data": {
      "text/html": [
       "<div>\n",
       "<style scoped>\n",
       "    .dataframe tbody tr th:only-of-type {\n",
       "        vertical-align: middle;\n",
       "    }\n",
       "\n",
       "    .dataframe tbody tr th {\n",
       "        vertical-align: top;\n",
       "    }\n",
       "\n",
       "    .dataframe thead th {\n",
       "        text-align: right;\n",
       "    }\n",
       "</style>\n",
       "<table border=\"1\" class=\"dataframe\">\n",
       "  <thead>\n",
       "    <tr style=\"text-align: right;\">\n",
       "      <th></th>\n",
       "      <th>PassengerId</th>\n",
       "      <th>CryoSleep</th>\n",
       "      <th>Cabin</th>\n",
       "      <th>Age</th>\n",
       "      <th>VIP</th>\n",
       "      <th>RoomService</th>\n",
       "      <th>FoodCourt</th>\n",
       "      <th>ShoppingMall</th>\n",
       "      <th>Spa</th>\n",
       "      <th>VRDeck</th>\n",
       "      <th>Name</th>\n",
       "      <th>Transported</th>\n",
       "      <th>HomePlanet_0</th>\n",
       "      <th>HomePlanet_1</th>\n",
       "      <th>HomePlanet_2</th>\n",
       "      <th>Destination_0</th>\n",
       "      <th>Destination_1</th>\n",
       "      <th>Destination_2</th>\n",
       "    </tr>\n",
       "  </thead>\n",
       "  <tbody>\n",
       "    <tr>\n",
       "      <th>0</th>\n",
       "      <td>0</td>\n",
       "      <td>0</td>\n",
       "      <td>149</td>\n",
       "      <td>39.0</td>\n",
       "      <td>0</td>\n",
       "      <td>0.0</td>\n",
       "      <td>0.0</td>\n",
       "      <td>0.0</td>\n",
       "      <td>0.0</td>\n",
       "      <td>0.0</td>\n",
       "      <td>Maham Ofracculy</td>\n",
       "      <td>0</td>\n",
       "      <td>0</td>\n",
       "      <td>1</td>\n",
       "      <td>0</td>\n",
       "      <td>0</td>\n",
       "      <td>0</td>\n",
       "      <td>1</td>\n",
       "    </tr>\n",
       "    <tr>\n",
       "      <th>1</th>\n",
       "      <td>1</td>\n",
       "      <td>0</td>\n",
       "      <td>2184</td>\n",
       "      <td>24.0</td>\n",
       "      <td>0</td>\n",
       "      <td>109.0</td>\n",
       "      <td>9.0</td>\n",
       "      <td>25.0</td>\n",
       "      <td>549.0</td>\n",
       "      <td>44.0</td>\n",
       "      <td>Juanna Vines</td>\n",
       "      <td>1</td>\n",
       "      <td>1</td>\n",
       "      <td>0</td>\n",
       "      <td>0</td>\n",
       "      <td>0</td>\n",
       "      <td>0</td>\n",
       "      <td>1</td>\n",
       "    </tr>\n",
       "    <tr>\n",
       "      <th>2</th>\n",
       "      <td>2</td>\n",
       "      <td>0</td>\n",
       "      <td>1</td>\n",
       "      <td>58.0</td>\n",
       "      <td>1</td>\n",
       "      <td>43.0</td>\n",
       "      <td>3576.0</td>\n",
       "      <td>0.0</td>\n",
       "      <td>6715.0</td>\n",
       "      <td>49.0</td>\n",
       "      <td>Altark Susent</td>\n",
       "      <td>0</td>\n",
       "      <td>0</td>\n",
       "      <td>1</td>\n",
       "      <td>0</td>\n",
       "      <td>0</td>\n",
       "      <td>0</td>\n",
       "      <td>1</td>\n",
       "    </tr>\n",
       "    <tr>\n",
       "      <th>3</th>\n",
       "      <td>3</td>\n",
       "      <td>0</td>\n",
       "      <td>1</td>\n",
       "      <td>33.0</td>\n",
       "      <td>0</td>\n",
       "      <td>0.0</td>\n",
       "      <td>1283.0</td>\n",
       "      <td>371.0</td>\n",
       "      <td>3329.0</td>\n",
       "      <td>193.0</td>\n",
       "      <td>Solam Susent</td>\n",
       "      <td>0</td>\n",
       "      <td>0</td>\n",
       "      <td>1</td>\n",
       "      <td>0</td>\n",
       "      <td>0</td>\n",
       "      <td>0</td>\n",
       "      <td>1</td>\n",
       "    </tr>\n",
       "    <tr>\n",
       "      <th>4</th>\n",
       "      <td>4</td>\n",
       "      <td>0</td>\n",
       "      <td>2186</td>\n",
       "      <td>16.0</td>\n",
       "      <td>0</td>\n",
       "      <td>303.0</td>\n",
       "      <td>70.0</td>\n",
       "      <td>151.0</td>\n",
       "      <td>565.0</td>\n",
       "      <td>2.0</td>\n",
       "      <td>Willy Santantines</td>\n",
       "      <td>1</td>\n",
       "      <td>1</td>\n",
       "      <td>0</td>\n",
       "      <td>0</td>\n",
       "      <td>0</td>\n",
       "      <td>0</td>\n",
       "      <td>1</td>\n",
       "    </tr>\n",
       "  </tbody>\n",
       "</table>\n",
       "</div>"
      ],
      "text/plain": [
       "   PassengerId  CryoSleep  Cabin   Age  VIP  RoomService  FoodCourt  \\\n",
       "0            0          0    149  39.0    0          0.0        0.0   \n",
       "1            1          0   2184  24.0    0        109.0        9.0   \n",
       "2            2          0      1  58.0    1         43.0     3576.0   \n",
       "3            3          0      1  33.0    0          0.0     1283.0   \n",
       "4            4          0   2186  16.0    0        303.0       70.0   \n",
       "\n",
       "   ShoppingMall     Spa  VRDeck               Name  Transported  HomePlanet_0  \\\n",
       "0           0.0     0.0     0.0    Maham Ofracculy            0             0   \n",
       "1          25.0   549.0    44.0       Juanna Vines            1             1   \n",
       "2           0.0  6715.0    49.0      Altark Susent            0             0   \n",
       "3         371.0  3329.0   193.0       Solam Susent            0             0   \n",
       "4         151.0   565.0     2.0  Willy Santantines            1             1   \n",
       "\n",
       "   HomePlanet_1  HomePlanet_2  Destination_0  Destination_1  Destination_2  \n",
       "0             1             0              0              0              1  \n",
       "1             0             0              0              0              1  \n",
       "2             1             0              0              0              1  \n",
       "3             1             0              0              0              1  \n",
       "4             0             0              0              0              1  "
      ]
     },
     "execution_count": 64,
     "metadata": {},
     "output_type": "execute_result"
    }
   ],
   "source": [
    "df_train[:5]"
   ]
  },
  {
   "cell_type": "code",
   "execution_count": 78,
   "metadata": {},
   "outputs": [
    {
     "data": {
      "text/plain": [
       "['CryoSleep',\n",
       " 'Cabin',\n",
       " 'Age',\n",
       " 'VIP',\n",
       " 'RoomService',\n",
       " 'FoodCourt',\n",
       " 'ShoppingMall',\n",
       " 'Spa',\n",
       " 'VRDeck',\n",
       " 'HomePlanet_0',\n",
       " 'HomePlanet_1',\n",
       " 'HomePlanet_2',\n",
       " 'Destination_0',\n",
       " 'Destination_1',\n",
       " 'Destination_2']"
      ]
     },
     "execution_count": 78,
     "metadata": {},
     "output_type": "execute_result"
    }
   ],
   "source": [
    "features = []\n",
    "for item in df_train.columns[1:10]:\n",
    "    features.append(item)\n",
    "for item in df_train.columns[12:]:\n",
    "    features.append(item)\n",
    "\n",
    "features"
   ]
  },
  {
   "cell_type": "code",
   "execution_count": 81,
   "metadata": {},
   "outputs": [],
   "source": [
    "X = df_train[features]\n",
    "y = df_train['Transported']"
   ]
  },
  {
   "cell_type": "code",
   "execution_count": 150,
   "metadata": {},
   "outputs": [
    {
     "data": {
      "text/html": [
       "<div>\n",
       "<style scoped>\n",
       "    .dataframe tbody tr th:only-of-type {\n",
       "        vertical-align: middle;\n",
       "    }\n",
       "\n",
       "    .dataframe tbody tr th {\n",
       "        vertical-align: top;\n",
       "    }\n",
       "\n",
       "    .dataframe thead th {\n",
       "        text-align: right;\n",
       "    }\n",
       "</style>\n",
       "<table border=\"1\" class=\"dataframe\">\n",
       "  <thead>\n",
       "    <tr style=\"text-align: right;\">\n",
       "      <th></th>\n",
       "      <th>CryoSleep</th>\n",
       "      <th>Cabin</th>\n",
       "      <th>Age</th>\n",
       "      <th>VIP</th>\n",
       "      <th>RoomService</th>\n",
       "      <th>FoodCourt</th>\n",
       "      <th>ShoppingMall</th>\n",
       "      <th>Spa</th>\n",
       "      <th>VRDeck</th>\n",
       "      <th>HomePlanet_0</th>\n",
       "      <th>HomePlanet_1</th>\n",
       "      <th>HomePlanet_2</th>\n",
       "      <th>Destination_0</th>\n",
       "      <th>Destination_1</th>\n",
       "      <th>Destination_2</th>\n",
       "    </tr>\n",
       "  </thead>\n",
       "  <tbody>\n",
       "    <tr>\n",
       "      <th>0</th>\n",
       "      <td>0</td>\n",
       "      <td>149</td>\n",
       "      <td>39.0</td>\n",
       "      <td>0</td>\n",
       "      <td>0.0</td>\n",
       "      <td>0.0</td>\n",
       "      <td>0.0</td>\n",
       "      <td>0.0</td>\n",
       "      <td>0.0</td>\n",
       "      <td>0</td>\n",
       "      <td>1</td>\n",
       "      <td>0</td>\n",
       "      <td>0</td>\n",
       "      <td>0</td>\n",
       "      <td>1</td>\n",
       "    </tr>\n",
       "    <tr>\n",
       "      <th>1</th>\n",
       "      <td>0</td>\n",
       "      <td>2184</td>\n",
       "      <td>24.0</td>\n",
       "      <td>0</td>\n",
       "      <td>109.0</td>\n",
       "      <td>9.0</td>\n",
       "      <td>25.0</td>\n",
       "      <td>549.0</td>\n",
       "      <td>44.0</td>\n",
       "      <td>1</td>\n",
       "      <td>0</td>\n",
       "      <td>0</td>\n",
       "      <td>0</td>\n",
       "      <td>0</td>\n",
       "      <td>1</td>\n",
       "    </tr>\n",
       "    <tr>\n",
       "      <th>2</th>\n",
       "      <td>0</td>\n",
       "      <td>1</td>\n",
       "      <td>58.0</td>\n",
       "      <td>1</td>\n",
       "      <td>43.0</td>\n",
       "      <td>3576.0</td>\n",
       "      <td>0.0</td>\n",
       "      <td>6715.0</td>\n",
       "      <td>49.0</td>\n",
       "      <td>0</td>\n",
       "      <td>1</td>\n",
       "      <td>0</td>\n",
       "      <td>0</td>\n",
       "      <td>0</td>\n",
       "      <td>1</td>\n",
       "    </tr>\n",
       "    <tr>\n",
       "      <th>3</th>\n",
       "      <td>0</td>\n",
       "      <td>1</td>\n",
       "      <td>33.0</td>\n",
       "      <td>0</td>\n",
       "      <td>0.0</td>\n",
       "      <td>1283.0</td>\n",
       "      <td>371.0</td>\n",
       "      <td>3329.0</td>\n",
       "      <td>193.0</td>\n",
       "      <td>0</td>\n",
       "      <td>1</td>\n",
       "      <td>0</td>\n",
       "      <td>0</td>\n",
       "      <td>0</td>\n",
       "      <td>1</td>\n",
       "    </tr>\n",
       "    <tr>\n",
       "      <th>4</th>\n",
       "      <td>0</td>\n",
       "      <td>2186</td>\n",
       "      <td>16.0</td>\n",
       "      <td>0</td>\n",
       "      <td>303.0</td>\n",
       "      <td>70.0</td>\n",
       "      <td>151.0</td>\n",
       "      <td>565.0</td>\n",
       "      <td>2.0</td>\n",
       "      <td>1</td>\n",
       "      <td>0</td>\n",
       "      <td>0</td>\n",
       "      <td>0</td>\n",
       "      <td>0</td>\n",
       "      <td>1</td>\n",
       "    </tr>\n",
       "  </tbody>\n",
       "</table>\n",
       "</div>"
      ],
      "text/plain": [
       "   CryoSleep  Cabin   Age  VIP  RoomService  FoodCourt  ShoppingMall     Spa  \\\n",
       "0          0    149  39.0    0          0.0        0.0           0.0     0.0   \n",
       "1          0   2184  24.0    0        109.0        9.0          25.0   549.0   \n",
       "2          0      1  58.0    1         43.0     3576.0           0.0  6715.0   \n",
       "3          0      1  33.0    0          0.0     1283.0         371.0  3329.0   \n",
       "4          0   2186  16.0    0        303.0       70.0         151.0   565.0   \n",
       "\n",
       "   VRDeck  HomePlanet_0  HomePlanet_1  HomePlanet_2  Destination_0  \\\n",
       "0     0.0             0             1             0              0   \n",
       "1    44.0             1             0             0              0   \n",
       "2    49.0             0             1             0              0   \n",
       "3   193.0             0             1             0              0   \n",
       "4     2.0             1             0             0              0   \n",
       "\n",
       "   Destination_1  Destination_2  \n",
       "0              0              1  \n",
       "1              0              1  \n",
       "2              0              1  \n",
       "3              0              1  \n",
       "4              0              1  "
      ]
     },
     "execution_count": 150,
     "metadata": {},
     "output_type": "execute_result"
    }
   ],
   "source": [
    "X[:5]"
   ]
  },
  {
   "attachments": {},
   "cell_type": "markdown",
   "metadata": {},
   "source": [
    "SHALOW PREDICTIONS"
   ]
  },
  {
   "cell_type": "code",
   "execution_count": 11,
   "metadata": {},
   "outputs": [],
   "source": [
    "from sklearn.model_selection import StratifiedKFold\n",
    "\n",
    "kfold = StratifiedKFold(n_splits=5, shuffle=True)"
   ]
  },
  {
   "cell_type": "code",
   "execution_count": 82,
   "metadata": {},
   "outputs": [
    {
     "data": {
      "text/plain": [
       "(0.7878735381563284, 0.011890136811951106)"
      ]
     },
     "execution_count": 82,
     "metadata": {},
     "output_type": "execute_result"
    }
   ],
   "source": [
    "from sklearn.svm import SVC\n",
    "from sklearn.model_selection import cross_val_score\n",
    "\n",
    "clf_SVC = SVC(C=100)\n",
    "cvs = cross_val_score(clf_SVC, X, y, cv=kfold)\n",
    "cvs.mean(), cvs.std()"
   ]
  },
  {
   "cell_type": "code",
   "execution_count": 85,
   "metadata": {},
   "outputs": [
    {
     "data": {
      "text/plain": [
       "(0.7950063228274917, 0.012044625458987037)"
      ]
     },
     "execution_count": 85,
     "metadata": {},
     "output_type": "execute_result"
    }
   ],
   "source": [
    "from sklearn.ensemble import RandomForestClassifier\n",
    "\n",
    "clf_RF = RandomForestClassifier(max_depth=8)\n",
    "cvs = cross_val_score(clf_RF, X, y, cv=kfold)\n",
    "cvs.mean(), cvs.std()"
   ]
  },
  {
   "attachments": {},
   "cell_type": "markdown",
   "metadata": {},
   "source": [
    "DEEP PREDICTIONS"
   ]
  },
  {
   "cell_type": "code",
   "execution_count": 113,
   "metadata": {},
   "outputs": [],
   "source": [
    "X_dl = torch.tensor(X.iloc[:].values).float()\n",
    "y_dl = torch.tensor(y.iloc[:].values).float()"
   ]
  },
  {
   "cell_type": "code",
   "execution_count": 114,
   "metadata": {},
   "outputs": [],
   "source": [
    "from sklearn.model_selection import train_test_split\n",
    "\n",
    "X_train, X_test, y_train, y_test = train_test_split(X_dl, y_dl, test_size=0.2, random_state=42)"
   ]
  },
  {
   "cell_type": "code",
   "execution_count": 296,
   "metadata": {},
   "outputs": [],
   "source": [
    "from torch import nn\n",
    "\n",
    "class BinaryClassificationModel(nn.Module):\n",
    "    def __init__(self):\n",
    "        super().__init__()\n",
    "        self.layer1 = nn.Linear(15, 60)\n",
    "        self.act1 = nn.Tanh()\n",
    "        self.layer2 = nn.Linear(60, 60)\n",
    "        self.act2 = nn.ReLU()\n",
    "        self.layer3 = nn.Linear(60, 60)\n",
    "        self.act3 = nn.ReLU()\n",
    "        self.output = nn.Linear(60, 1)\n",
    "        self.sigmoid = nn.Sigmoid()\n",
    " \n",
    "    def forward(self, x):\n",
    "        x = self.act1(self.layer1(x))\n",
    "        x = self.act2(self.layer2(x))\n",
    "        x = self.act3(self.layer3(x))\n",
    "        x = self.sigmoid(self.output(x))\n",
    "    # def __init__(self):\n",
    "    #     super().__init__()\n",
    "    #     self.hidden = nn.Linear(15, 64)\n",
    "    #     self.relu = nn.ReLU()\n",
    "    #     self.dropout = nn.Dropout(p=0.3)\n",
    "    #     self.layer_1 = nn.Linear(64, 32)\n",
    "    #     self.output = nn.Linear(32, 1)\n",
    "    #     self.sigmoid = nn.Sigmoid()\n",
    "        \n",
    "    # def forward(self, x):\n",
    "    #     x = self.sigmoid(self.hidden(x))\n",
    "    #     x = self.sigmoid(self.layer_1(x))\n",
    "    #     x = self.sigmoid(self.output(x))\n",
    "        return x.flatten()"
   ]
  },
  {
   "cell_type": "code",
   "execution_count": 297,
   "metadata": {},
   "outputs": [
    {
     "name": "stdout",
     "output_type": "stream",
     "text": [
      "Epoch 0 | Loss: 0.6692490577697754\n",
      "0.5963197239792984\n",
      "changing pace\n",
      "Epoch 50 | Loss: 0.48781445622444153\n",
      "0.7849338700402531\n",
      "Epoch 100 | Loss: 0.48613065481185913\n",
      "0.7860839562967222\n",
      "Slowing down\n",
      "Epoch 150 | Loss: 0.4899328947067261\n",
      "0.7843588269120184\n",
      "Epoch 200 | Loss: 0.49186912178993225\n",
      "0.7843588269120184\n",
      "Epoch 250 | Loss: 0.4932701885700226\n",
      "0.7837837837837838\n"
     ]
    },
    {
     "data": {
      "text/plain": [
       "0.7872340425531915"
      ]
     },
     "execution_count": 297,
     "metadata": {},
     "output_type": "execute_result"
    },
    {
     "data": {
      "image/png": "[encoded data removed]",
      "text/plain": [
       "<Figure size 432x288 with 1 Axes>"
      ]
     },
     "metadata": {
      "needs_background": "light"
     },
     "output_type": "display_data"
    }
   ],
   "source": [
    "torch.manual_seed(42)\n",
    "\n",
    "model = BinaryClassificationModel()\n",
    "\n",
    "model_train(model, X_train, y_train, visualize=True)\n",
    "pred = model(X_test)\n",
    "get_accuracy_score(pred, y_test)"
   ]
  },
  {
   "cell_type": "code",
   "execution_count": 236,
   "metadata": {},
   "outputs": [
    {
     "data": {
      "text/plain": [
       "(tensor([1.0000e+00, 0.0000e+00, 1.0000e+00, 0.0000e+00, 6.2392e-09]),\n",
       " tensor([1., 0., 0., 1., 1.]))"
      ]
     },
     "execution_count": 236,
     "metadata": {},
     "output_type": "execute_result"
    }
   ],
   "source": [
    "with torch.inference_mode():\n",
    "    random_prediction = model(X_test)\n",
    "\n",
    "random_prediction[:5], y_test[:5]"
   ]
  },
  {
   "cell_type": "code",
   "execution_count": 237,
   "metadata": {},
   "outputs": [],
   "source": [
    "from sklearn.metrics import accuracy_score\n",
    "\n",
    "def get_accuracy_score(tensor_1, tensor_2):\n",
    "    list_1 = [1 if item > 0.5 else int(item) for item in tensor_1]\n",
    "    list_2 = [int(item) for item in tensor_2]\n",
    "\n",
    "    return accuracy_score(list_1, list_2)"
   ]
  },
  {
   "cell_type": "code",
   "execution_count": 238,
   "metadata": {},
   "outputs": [
    {
     "data": {
      "text/plain": [
       "0.5014376078205866"
      ]
     },
     "execution_count": 238,
     "metadata": {},
     "output_type": "execute_result"
    }
   ],
   "source": [
    "get_accuracy_score(random_prediction, y_test)"
   ]
  },
  {
   "cell_type": "code",
   "execution_count": 239,
   "metadata": {},
   "outputs": [],
   "source": [
    "def visualize_training(epoch_count, loss_values, test_loss_values):\n",
    "    plt.plot(epoch_count, torch.tensor(loss_values).numpy(), label='Train loss')\n",
    "    plt.plot(epoch_count, test_loss_values, label='Test loss')\n",
    "    plt.ylabel('Loss')\n",
    "    plt.xlabel('Epochs')\n",
    "    plt.legend()"
   ]
  },
  {
   "cell_type": "code",
   "execution_count": 270,
   "metadata": {},
   "outputs": [],
   "source": [
    "import copy\n",
    "\n",
    "def model_train(model, X_train, y_train, visualize=False):\n",
    "    torch.manual_seed(42)\n",
    "\n",
    "    loss_fn = nn.BCELoss()\n",
    "    optimizer = torch.optim.Adam(model.parameters(), lr=0.01)\n",
    "    epochs = 251\n",
    "\n",
    "    epoch_count = []\n",
    "    loss_values = []\n",
    "    test_loss_values = []\n",
    "\n",
    "    best_acc = - np.inf\n",
    "    best_weights = None\n",
    "\n",
    "    for epoch in range(epochs):\n",
    "\n",
    "        if epoch == 50:\n",
    "            print('changing pace')\n",
    "            optimizer = torch.optim.Adam(model.parameters(), lr=0.001)\n",
    "        \n",
    "        if epoch == 150:\n",
    "            print('Slowing down')\n",
    "            optimizer = torch.optim.Adam(model.parameters(), lr=0.0001)\n",
    "\n",
    "        model.train() # Sets parameters that require gradience to require gradient\n",
    "\n",
    "        # Forward pass\n",
    "        y_pred = model(X_train)\n",
    "\n",
    "        # Calculate loss\n",
    "        loss = loss_fn(y_pred, y_train)\n",
    "        \n",
    "        optimizer.zero_grad()\n",
    "\n",
    "        # Perform backpropagation on the loss with respect to parameters\n",
    "        loss.backward() # Start fresh each iteration\n",
    "\n",
    "        # Step the optimizer (perform gradient descend)\n",
    "        optimizer.step() # By default will accumulate through the loop, so zero them above\n",
    "\n",
    "        with torch.inference_mode():\n",
    "            test_pred = model(X_test)\n",
    "            test_loss = loss_fn(test_pred, y_test)\n",
    "\n",
    "            \n",
    "        epoch_count.append(epoch)\n",
    "        loss_values.append(loss)\n",
    "        test_loss_values.append(test_loss)\n",
    "\n",
    "        acc = get_accuracy_score(test_pred, y_test)\n",
    "        if acc > best_acc:\n",
    "            best_acc = acc\n",
    "            best_weights = copy.deepcopy(model.state_dict())\n",
    "\n",
    "        if epoch % 50 == 0:\n",
    "            print(f'Epoch {epoch} | Loss: {test_loss}')\n",
    "            print(acc)\n",
    "            \n",
    "    model.eval() # Turns off gradient tracking\n",
    "    model.load_state_dict(best_weights)\n",
    "    \n",
    "    if visualize:\n",
    "        visualize_training(epoch_count, loss_values, test_loss_values)"
   ]
  },
  {
   "cell_type": "code",
   "execution_count": 246,
   "metadata": {},
   "outputs": [
    {
     "name": "stdout",
     "output_type": "stream",
     "text": [
      "Epoch 0 | Loss: 2.492647647857666\n",
      "0.5319148936170213\n",
      "Epoch 100 | Loss: 0.5280230045318604\n",
      "0.7682576193214491\n"
     ]
    },
    {
     "data": {
      "image/png": "[encoded data removed]",
      "text/plain": [
       "<Figure size 432x288 with 1 Axes>"
      ]
     },
     "metadata": {
      "needs_background": "light"
     },
     "output_type": "display_data"
    }
   ],
   "source": [
    "model_train(model, X_train, y_train, visualize=True)"
   ]
  },
  {
   "cell_type": "code",
   "execution_count": 247,
   "metadata": {},
   "outputs": [
    {
     "data": {
      "text/plain": [
       "0.7843588269120184"
      ]
     },
     "execution_count": 247,
     "metadata": {},
     "output_type": "execute_result"
    }
   ],
   "source": [
    "with torch.inference_mode():\n",
    "    training_prediction = model(X_test)\n",
    "\n",
    "get_accuracy_score(training_prediction, y_test)"
   ]
  },
  {
   "cell_type": "code",
   "execution_count": 298,
   "metadata": {},
   "outputs": [
    {
     "name": "stdout",
     "output_type": "stream",
     "text": [
      "Epoch 0 | Loss: 0.6693280339241028\n",
      "0.5928694652098907\n",
      "changing pace\n",
      "Epoch 50 | Loss: 0.48368364572525024\n",
      "0.7768832662449684\n",
      "Epoch 100 | Loss: 0.4867221713066101\n",
      "0.7832087406555491\n",
      "Slowing down\n",
      "Epoch 150 | Loss: 0.49591678380966187\n",
      "0.7832087406555491\n",
      "Epoch 200 | Loss: 0.4964597523212433\n",
      "0.7826336975273146\n",
      "Epoch 250 | Loss: 0.4980427026748657\n",
      "0.780333525014376\n",
      "Accuracy: 0.7929547088425594\n",
      "Epoch 0 | Loss: 0.6691739559173584\n",
      "0.5945945945945946\n",
      "changing pace\n",
      "Epoch 50 | Loss: 0.4839104413986206\n",
      "0.780333525014376\n",
      "Epoch 100 | Loss: 0.4836820065975189\n",
      "0.7832087406555491\n",
      "Slowing down\n",
      "Epoch 150 | Loss: 0.4953770637512207\n",
      "0.7814836112708453\n",
      "Epoch 200 | Loss: 0.4965231120586395\n",
      "0.7832087406555491\n",
      "Epoch 250 | Loss: 0.49864938855171204\n",
      "0.7837837837837838\n",
      "Accuracy: 0.794392523364486\n",
      "Epoch 0 | Loss: 0.6688571572303772\n",
      "0.6020701552616446\n",
      "changing pace\n",
      "Epoch 50 | Loss: 0.4999053478240967\n",
      "0.7676825761932144\n",
      "Epoch 100 | Loss: 0.48524582386016846\n",
      "0.7786083956296722\n",
      "Slowing down\n",
      "Epoch 150 | Loss: 0.48956844210624695\n",
      "0.7757331799884991\n",
      "Epoch 200 | Loss: 0.4899352490901947\n",
      "0.7745830937320299\n",
      "Epoch 250 | Loss: 0.491011381149292\n",
      "0.7751581368602645\n",
      "Accuracy: 0.7843278217109992\n",
      "Epoch 0 | Loss: 0.6693322062492371\n",
      "0.5911443358251869\n",
      "changing pace\n",
      "Epoch 50 | Loss: 0.4947611689567566\n",
      "0.7734330074755607\n",
      "Epoch 100 | Loss: 0.4946543872356415\n",
      "0.7780333525014376\n",
      "Slowing down\n",
      "Epoch 150 | Loss: 0.5009656548500061\n",
      "0.78205865439908\n",
      "Epoch 200 | Loss: 0.5019939541816711\n",
      "0.780333525014376\n",
      "Epoch 250 | Loss: 0.5030913949012756\n",
      "0.7797584818861415\n",
      "Accuracy: 0.7915168943206327\n",
      "Epoch 0 | Loss: 0.6705825328826904\n",
      "0.5974698102357677\n",
      "changing pace\n",
      "Epoch 50 | Loss: 0.4904053807258606\n",
      "0.7751581368602645\n",
      "Epoch 100 | Loss: 0.49027085304260254\n",
      "0.7768832662449684\n",
      "Slowing down\n",
      "Epoch 150 | Loss: 0.5026870369911194\n",
      "0.7791834387579069\n",
      "Epoch 200 | Loss: 0.5042231678962708\n",
      "0.7791834387579069\n",
      "Epoch 250 | Loss: 0.5061972737312317\n",
      "0.777458309373203\n",
      "Accuracy: 0.7920863309352518\n"
     ]
    }
   ],
   "source": [
    "overall_acc = []\n",
    "for train, test in kfold.split(X_train, y_train):\n",
    "\n",
    "    model = BinaryClassificationModel()\n",
    "    model_train(model, X_train[train], y_train[train])\n",
    "    with torch.inference_mode():\n",
    "        predictions = model(X_train[test])\n",
    "    acc = get_accuracy_score(predictions, y_train[test])\n",
    "    print(f\"Accuracy: {acc}\")\n",
    "    overall_acc.append(acc)"
   ]
  },
  {
   "cell_type": "code",
   "execution_count": 300,
   "metadata": {},
   "outputs": [
    {
     "data": {
      "text/plain": [
       "0.7910556558347859"
      ]
     },
     "execution_count": 300,
     "metadata": {},
     "output_type": "execute_result"
    }
   ],
   "source": [
    "sum(overall_acc) / len(overall_acc)"
   ]
  }
 ],
 "metadata": {
  "kernelspec": {
   "display_name": "Python 3",
   "language": "python",
   "name": "python3"
  },
  "language_info": {
   "codemirror_mode": {
    "name": "ipython",
    "version": 3
   },
   "file_extension": ".py",
   "mimetype": "text/x-python",
   "name": "python",
   "nbconvert_exporter": "python",
   "pygments_lexer": "ipython3",
   "version": "3.10.3"
  },
  "orig_nbformat": 4
 },
 "nbformat": 4,
 "nbformat_minor": 2
}
